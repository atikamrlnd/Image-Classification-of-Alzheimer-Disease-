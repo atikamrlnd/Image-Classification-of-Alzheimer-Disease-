{
 "cells": [
  {
   "cell_type": "code",
   "execution_count": null,
   "metadata": {
    "executionInfo": {
     "elapsed": 6525,
     "status": "ok",
     "timestamp": 1717930677563,
     "user": {
      "displayName": "Atika Marlinda",
      "userId": "12465782107960858004"
     },
     "user_tz": -420
    },
    "id": "vUeLgOrf2JYv"
   },
   "outputs": [],
   "source": [
    "from tensorflow.keras.preprocessing import image  \n",
    "from tensorflow.keras.models import load_model  \n",
    "import os  \n",
    "import numpy as np  \n",
    "import tensorflow as tf  \n",
    "from tensorflow.keras.models import Model  \n",
    "from tensorflow.keras.layers import GlobalAveragePooling2D, Dense, Dropout \n",
    "from tensorflow.keras.preprocessing.image import ImageDataGenerator \n",
    "from tensorflow.keras.applications import EfficientNetV2B0 \n",
    "from tensorflow.keras.applications.efficientnet_v2 import preprocess_input  \n",
    "from sklearn.metrics import classification_report, confusion_matrix, accuracy_score  \n",
    "import seaborn as sns  \n",
    "import matplotlib.pyplot as plt  "
   ]
  },
  {
   "cell_type": "code",
   "execution_count": null,
   "metadata": {
    "colab": {
     "base_uri": "https://localhost:8080/"
    },
    "executionInfo": {
     "elapsed": 24803,
     "status": "ok",
     "timestamp": 1717930702358,
     "user": {
      "displayName": "Atika Marlinda",
      "userId": "12465782107960858004"
     },
     "user_tz": -420
    },
    "id": "U_mTOawx2Zx7",
    "outputId": "8173ac94-74c7-4f8f-b97e-86b3837822e6"
   },
   "outputs": [],
   "source": [
    "from google.colab import drive\n",
    "drive.mount('/content/drive')"
   ]
  },
  {
   "cell_type": "code",
   "execution_count": 3,
   "metadata": {
    "executionInfo": {
     "elapsed": 13,
     "status": "ok",
     "timestamp": 1717930702359,
     "user": {
      "displayName": "Atika Marlinda",
      "userId": "12465782107960858004"
     },
     "user_tz": -420
    },
    "id": "XzvhSJeC2JYz"
   },
   "outputs": [],
   "source": [
    "train_dir = '/content/drive/MyDrive/DatasetMRIAD/dataset_224_fix/train'\n",
    "test_dir = '/content/drive/MyDrive/DatasetMRIAD/dataset_224_fix/test'\n",
    "val_dir = '/content/drive/MyDrive/DatasetMRIAD/dataset_224_fix/val'"
   ]
  },
  {
   "cell_type": "code",
   "execution_count": null,
   "metadata": {
    "colab": {
     "base_uri": "https://localhost:8080/",
     "height": 894
    },
    "executionInfo": {
     "elapsed": 8452,
     "status": "ok",
     "timestamp": 1717930710799,
     "user": {
      "displayName": "Atika Marlinda",
      "userId": "12465782107960858004"
     },
     "user_tz": -420
    },
    "id": "ko01XVG8XoSv",
    "outputId": "726f2e0d-f012-4485-9957-df22585f3c35"
   },
   "outputs": [],
   "source": [
    "import os\n",
    "import matplotlib.pyplot as plt\n",
    "\n",
    "base_dir = '/content/drive/MyDrive/DatasetMRIAD/dataset_224_fix/'\n",
    "classes = ['NonDemented', 'VeryMildDemented', 'MildDemented', 'ModerateDemented', 'SevereDemented']\n",
    "\n",
    "print(\"Train set:\\n========================================\")\n",
    "for class_name in classes:\n",
    "    num_images = len(os.listdir(os.path.join(base_dir, 'train', class_name)))\n",
    "    print(f\"{class_name}={num_images}\")\n",
    "\n",
    "print(\"Test set:\\n========================================\")\n",
    "for class_name in classes:\n",
    "    num_images = len(os.listdir(os.path.join(base_dir, 'test', class_name)))\n",
    "    print(f\"{class_name}={num_images}\")\n",
    "\n",
    "print(\"Validation set:\\n========================================\")\n",
    "for class_name in classes:\n",
    "    num_images = len(os.listdir(os.path.join(base_dir, 'val', class_name)))\n",
    "    print(f\"{class_name}={num_images}\")\n",
    "\n",
    "plt.figure(figsize=(10, 10))\n",
    "\n",
    "for idx, class_name in enumerate(classes, start=1):\n",
    "    class_dir = os.path.join(base_dir, 'test', class_name)\n",
    "    class_images = os.listdir(class_dir)[:1]  # Take 1 example image from each class\n",
    "    for i, image_name in enumerate(class_images, start=1):\n",
    "        plt.subplot(4, 3, idx + i - 1)\n",
    "        img = plt.imread(os.path.join(class_dir, image_name))\n",
    "        plt.imshow(img, cmap='gray')\n",
    "        plt.title(class_name)\n",
    "        plt.axis('off')\n",
    "\n",
    "plt.tight_layout()\n",
    "plt.show()\n"
   ]
  },
  {
   "cell_type": "code",
   "execution_count": null,
   "metadata": {
    "colab": {
     "base_uri": "https://localhost:8080/"
    },
    "executionInfo": {
     "elapsed": 2651,
     "status": "ok",
     "timestamp": 1717930713443,
     "user": {
      "displayName": "Atika Marlinda",
      "userId": "12465782107960858004"
     },
     "user_tz": -420
    },
    "id": "qRxkWtfr2JY0",
    "outputId": "347d8f33-f6ca-4366-d676-fab23fbc4337"
   },
   "outputs": [],
   "source": [
    "# Specify the form of input\n",
    "input_shape = (224, 224, 3)\n",
    "\n",
    "from keras.applications import EfficientNetV2B0\n",
    "\n",
    "base_model = EfficientNetV2B0(weights='imagenet', include_top=False, input_shape=input_shape)\n"
   ]
  },
  {
   "cell_type": "code",
   "execution_count": null,
   "metadata": {
    "executionInfo": {
     "elapsed": 2392,
     "status": "ok",
     "timestamp": 1717930715832,
     "user": {
      "displayName": "Atika Marlinda",
      "userId": "12465782107960858004"
     },
     "user_tz": -420
    },
    "id": "5qOVN9dI2JY0"
   },
   "outputs": [],
   "source": [
    "# Insert the output of base_model into the variable x\n",
    "x = base_model.output\n",
    "\n",
    "# Insert the output of base_model into the variable x\n",
    "x = GlobalAveragePooling2D()(x)\n",
    "\n",
    "# Added Dense layer with 128 neurons and ReLU activation function\n",
    "x = Dense(128, activation='relu')(x)\n",
    "\n",
    "# Added Dropout layer to prevent overfitting\n",
    "x = Dropout(0.5)(x)  # Dropout rate 0.5 means 50% of the neurons will be randomly deactivated\n",
    "\n",
    "# Adding a Dense layer with 5 neurons (according to the number of classes) and softmax activation function\n",
    "predictions = Dense(5, activation='softmax')(x)\n",
    "\n",
    "# Form a model by connecting the inputs of the base_model to the outputs of the predictions layer\n",
    "model = Model(inputs=base_model.input, outputs=predictions)"
   ]
  },
  {
   "cell_type": "code",
   "execution_count": null,
   "metadata": {
    "colab": {
     "base_uri": "https://localhost:8080/"
    },
    "executionInfo": {
     "elapsed": 73,
     "status": "ok",
     "timestamp": 1717930715832,
     "user": {
      "displayName": "Atika Marlinda",
      "userId": "12465782107960858004"
     },
     "user_tz": -420
    },
    "id": "3047RFkB2JY1",
    "outputId": "d2e1fa7a-bcfd-4e49-8761-0e7d1b047e20"
   },
   "outputs": [],
   "source": [
    "# Freeze the layers of the base model\n",
    "for layer in base_model.layers:\n",
    "    layer.trainable = False\n",
    "# Compile model\n",
    "sgd = tf.keras.optimizers.SGD(learning_rate=0.001, momentum=0.9, nesterov=True)\n",
    "model.compile(optimizer=sgd, loss='categorical_crossentropy', metrics=['accuracy'])\n",
    "# Define data generators\n",
    "train_datagen = ImageDataGenerator(preprocessing_function=preprocess_input)\n",
    "val_datagen = ImageDataGenerator(preprocessing_function=preprocess_input)\n",
    "test_datagen = ImageDataGenerator(preprocessing_function=preprocess_input)\n",
    "\n",
    "train_generator = train_datagen.flow_from_directory(train_dir,\n",
    "                                                    target_size=input_shape[:2],\n",
    "                                                    batch_size=32,\n",
    "                                                    class_mode='categorical',\n",
    "                                                    shuffle=True)\n",
    "val_generator = val_datagen.flow_from_directory(val_dir,\n",
    "                                                target_size=input_shape[:2],\n",
    "                                                batch_size=32,\n",
    "                                                class_mode='categorical',\n",
    "                                                shuffle=False)\n",
    "test_generator = test_datagen.flow_from_directory(test_dir,\n",
    "                                                  target_size=input_shape[:2],\n",
    "                                                  batch_size=32,\n",
    "                                                  class_mode='categorical',\n",
    "                                                  shuffle=False)"
   ]
  },
  {
   "cell_type": "code",
   "execution_count": null,
   "metadata": {
    "colab": {
     "base_uri": "https://localhost:8080/"
    },
    "executionInfo": {
     "elapsed": 1976,
     "status": "ok",
     "timestamp": 1717930717741,
     "user": {
      "displayName": "Atika Marlinda",
      "userId": "12465782107960858004"
     },
     "user_tz": -420
    },
    "id": "bKG6z9Oe2JY1",
    "outputId": "d86981b5-b601-4f1b-8dff-3fc69016f963"
   },
   "outputs": [],
   "source": [
    "model.summary()"
   ]
  },
  {
   "cell_type": "code",
   "execution_count": null,
   "metadata": {
    "colab": {
     "base_uri": "https://localhost:8080/"
    },
    "executionInfo": {
     "elapsed": 633276,
     "status": "ok",
     "timestamp": 1717931351011,
     "user": {
      "displayName": "Atika Marlinda",
      "userId": "12465782107960858004"
     },
     "user_tz": -420
    },
    "id": "Wv9o2u712JY2",
    "outputId": "af26b744-8af9-4cac-e7a7-0b8fcb8f61a6"
   },
   "outputs": [],
   "source": [
    "# Train the model with training data from train_generator\n",
    "import time\n",
    "\n",
    "# Start Time\n",
    "start_time = time.time()\n",
    "\n",
    "history = model.fit(\n",
    "    train_generator,  # Generator for training data\n",
    "    steps_per_epoch=len(train_generator),  # Number of steps per epoch, calculated from the generator length\n",
    "    epochs=100,  # Number of epochs (complete iterations over the dataset)\n",
    "    validation_data=val_generator, # Validation data used to evaluate model performance\n",
    "    validation_steps=len(val_generator)  # Number of steps per epoch for validation, calculated from the generator length\n",
    ")\n",
    "\n",
    "end_time = time.time()"
   ]
  },
  {
   "cell_type": "code",
   "execution_count": null,
   "metadata": {
    "colab": {
     "base_uri": "https://localhost:8080/"
    },
    "executionInfo": {
     "elapsed": 25,
     "status": "ok",
     "timestamp": 1717931351011,
     "user": {
      "displayName": "Atika Marlinda",
      "userId": "12465782107960858004"
     },
     "user_tz": -420
    },
    "id": "HHzDJ5DEctCl",
    "outputId": "aa8c5095-090d-42d7-b9aa-870a7383d288"
   },
   "outputs": [],
   "source": [
    "# Calculate the time difference in seconds\n",
    "training_time_seconds = end_time - start_time\n",
    "\n",
    "# Convert to minutes\n",
    "training_time_minutes = training_time_seconds / 60\n",
    "\n",
    "print(\"Waktu pelatihan model:\", training_time_minutes, \"menit\")"
   ]
  },
  {
   "cell_type": "code",
   "execution_count": null,
   "metadata": {
    "colab": {
     "base_uri": "https://localhost:8080/"
    },
    "executionInfo": {
     "elapsed": 1025,
     "status": "ok",
     "timestamp": 1717931352031,
     "user": {
      "displayName": "Atika Marlinda",
      "userId": "12465782107960858004"
     },
     "user_tz": -420
    },
    "id": "AVnEG__i2JY2",
    "outputId": "13053078-236a-4fe4-979f-56ba16adcd05"
   },
   "outputs": [],
   "source": [
    "# Save the model in .hdf5 format\n",
    "model.save(\"EfficientNetV2B0.h5\")"
   ]
  },
  {
   "cell_type": "code",
   "execution_count": null,
   "metadata": {
    "colab": {
     "base_uri": "https://localhost:8080/",
     "height": 508
    },
    "executionInfo": {
     "elapsed": 21,
     "status": "ok",
     "timestamp": 1717931352032,
     "user": {
      "displayName": "Atika Marlinda",
      "userId": "12465782107960858004"
     },
     "user_tz": -420
    },
    "id": "ZaaVmqxH2JY3",
    "outputId": "eda265f5-6e51-4fdf-8964-3461a1aa4370"
   },
   "outputs": [],
   "source": [
    "# Retrieving training and validation accuracy values from history\n",
    "acc = history.history['accuracy']  # Training accuracy at each epoch\n",
    "val_acc = history.history['val_accuracy']  # Validation accuracy at each epoch\n",
    "\n",
    "# Determine the number of epochs\n",
    "epochs = range(len(acc))  # Number of epochs\n",
    "\n",
    "# Plot the training and validation accuracy graphs against epochs\n",
    "plt.plot(epochs, acc, 'r', label='Training accuracy')  \n",
    "plt.plot(epochs, val_acc, 'b', label='Validation accuracy')  \n",
    "plt.title('Training and validation accuracy')  \n",
    "plt.xlabel('Epoch')  \n",
    "plt.ylabel('Accuracy')  \n",
    "plt.legend() \n",
    "plt.figure()  \n"
   ]
  },
  {
   "cell_type": "code",
   "execution_count": null,
   "metadata": {
    "colab": {
     "base_uri": "https://localhost:8080/",
     "height": 508
    },
    "executionInfo": {
     "elapsed": 1239,
     "status": "ok",
     "timestamp": 1717931353255,
     "user": {
      "displayName": "Atika Marlinda",
      "userId": "12465782107960858004"
     },
     "user_tz": -420
    },
    "id": "e2Y2YQ6k2JY3",
    "outputId": "bd58ee5e-ddf8-4420-8a4a-6803392969de"
   },
   "outputs": [],
   "source": [
    "# Take training and validation loss values from history\n",
    "loss = history.history['loss'] \n",
    "val_loss = history.history['val_loss'] \n",
    "\n",
    "# Determine number of epochs \n",
    "epochs = range(len(loss)) \n",
    "\n",
    "# Plot the training and validation loss graphs against epochs\n",
    "plt.plot(epochs, loss, 'r', label='Training loss')  \n",
    "plt.plot(epochs, val_loss, 'b', label='Validation loss') \n",
    "plt.title('Training and validation loss')  \n",
    "plt.xlabel('Epoch')  \n",
    "plt.ylabel('Loss') \n",
    "plt.legend()  \n",
    "plt.figure()  "
   ]
  },
  {
   "cell_type": "code",
   "execution_count": null,
   "metadata": {
    "colab": {
     "base_uri": "https://localhost:8080/"
    },
    "executionInfo": {
     "elapsed": 33502,
     "status": "ok",
     "timestamp": 1717931386743,
     "user": {
      "displayName": "Atika Marlinda",
      "userId": "12465782107960858004"
     },
     "user_tz": -420
    },
    "id": "rl7VBalqOEgN",
    "outputId": "2d3cfdcf-33ae-4224-f170-761f6a71385d"
   },
   "outputs": [],
   "source": [
    "# Evaluate the model using training data (train_generator) and print the training accuracy\n",
    "evaluation = model.evaluate(train_generator) \n",
    "print(f\"Train Accuracy: {evaluation[1] * 100:.2f}%\") \n",
    "\n",
    "# Evaluate the model using test data (test_generator) and print the test accuracy\n",
    "evaluation = model.evaluate(test_generator) \n",
    "print(f\"Test Accuracy: {evaluation[1] * 100:.2f}%\") \n",
    "\n",
    "# Evaluate the model using test data (test_generator) and print the test accuracy\n",
    "evaluation = model.evaluate(val_generator)  \n",
    "print(f\"Validation Accuracy: {evaluation[1] * 100:.2f}%\") "
   ]
  },
  {
   "cell_type": "code",
   "execution_count": null,
   "metadata": {
    "colab": {
     "base_uri": "https://localhost:8080/"
    },
    "executionInfo": {
     "elapsed": 1237,
     "status": "ok",
     "timestamp": 1717931387954,
     "user": {
      "displayName": "Atika Marlinda",
      "userId": "12465782107960858004"
     },
     "user_tz": -420
    },
    "id": "mYrn43g22JY5",
    "outputId": "559b246d-9cf8-4def-df54-0e749835a29e"
   },
   "outputs": [],
   "source": [
    "# Evaluate the model using the test generator data (test_generator)\n",
    "model.evaluate(test_generator)\n",
    "\n",
    "# Evaluate the model using validation generator data (test_generator)\n",
    "model.evaluate(val_generator)"
   ]
  },
  {
   "cell_type": "code",
   "execution_count": null,
   "metadata": {
    "colab": {
     "base_uri": "https://localhost:8080/"
    },
    "executionInfo": {
     "elapsed": 2669,
     "status": "ok",
     "timestamp": 1717931390616,
     "user": {
      "displayName": "Atika Marlinda",
      "userId": "12465782107960858004"
     },
     "user_tz": -420
    },
    "id": "7JUBEH3R2JY4",
    "outputId": "f195fe01-e54a-498d-fc9a-865670bd343e"
   },
   "outputs": [],
   "source": [
    "preds = model.predict_generator(generator=test_generator) # Predicting class probabilities using test data generator\n",
    "labels = 1 * (preds > 0.5)  # Converts the probability to a binary class (0 or 1) with a threshold of 0.5\n",
    "# Retrieving accuracy and loss data from history\n",
    "train_acc = history.history['accuracy'] \n",
    "val_acc = history.history['val_accuracy']  \n",
    "train_loss = history.history['loss']  \n",
    "val_loss = history.history['val_loss']"
   ]
  },
  {
   "cell_type": "code",
   "execution_count": null,
   "metadata": {
    "colab": {
     "base_uri": "https://localhost:8080/",
     "height": 193
    },
    "executionInfo": {
     "elapsed": 426,
     "status": "ok",
     "timestamp": 1717931391033,
     "user": {
      "displayName": "Atika Marlinda",
      "userId": "12465782107960858004"
     },
     "user_tz": -420
    },
    "id": "-WBIbCIQXNeF",
    "outputId": "0ed68507-037b-4a64-ee8e-3e1d1a1b6b26"
   },
   "outputs": [],
   "source": [
    "from sklearn.metrics import confusion_matrix, classification_report\n",
    "import pandas as pd\n",
    "\n",
    "# Using the model to make prediction on data test\n",
    "test_generator.reset()\n",
    "pred = model.predict(test_generator, steps=len(test_generator), verbose=1)\n",
    "# Take the class with the highest probability value as the prediction\n",
    "y_pred = np.argmax(pred, axis=1)\n",
    "y_true = test_generator.classes\n",
    "\n",
    "pd.DataFrame(classification_report(test_generator.classes, y_pred, output_dict=True))"
   ]
  },
  {
   "cell_type": "code",
   "execution_count": null,
   "metadata": {
    "colab": {
     "base_uri": "https://localhost:8080/",
     "height": 565
    },
    "executionInfo": {
     "elapsed": 1013,
     "status": "ok",
     "timestamp": 1717931392034,
     "user": {
      "displayName": "Atika Marlinda",
      "userId": "12465782107960858004"
     },
     "user_tz": -420
    },
    "id": "1OSQ82x42JY5",
    "outputId": "d3467557-0c68-4622-9f19-5c236c396c75"
   },
   "outputs": [],
   "source": [
    "# Using the model to make prediction on data test\n",
    "test_generator.reset()\n",
    "pred = model.predict(test_generator, steps=len(test_generator), verbose=1)\n",
    "y_pred = np.argmax(pred, axis=1)\n",
    "y_true = test_generator.classes\n",
    "\n",
    "# Create confusion matrix\n",
    "cm = confusion_matrix(test_generator.classes, y_pred)\n",
    "\n",
    "# Plot confusion matrix\n",
    "plt.figure(figsize=(8, 6))\n",
    "sns.heatmap(cm, annot=True, cmap='Blues', fmt='g')\n",
    "plt.xlabel('Predicted Label')\n",
    "plt.ylabel('True Label')\n",
    "plt.show()"
   ]
  },
  {
   "cell_type": "code",
   "execution_count": null,
   "metadata": {
    "colab": {
     "base_uri": "https://localhost:8080/",
     "height": 942
    },
    "executionInfo": {
     "elapsed": 1499,
     "status": "ok",
     "timestamp": 1717931393528,
     "user": {
      "displayName": "Atika Marlinda",
      "userId": "12465782107960858004"
     },
     "user_tz": -420
    },
    "id": "jONUyWarFcBW",
    "outputId": "b3008d54-e99c-4bff-c680-fb7d6026e178"
   },
   "outputs": [],
   "source": [
    "import numpy as np\n",
    "import pandas as pd\n",
    "from sklearn.metrics import accuracy_score, confusion_matrix, classification_report\n",
    "import matplotlib.pyplot as plt\n",
    "import seaborn as sns\n",
    "\n",
    "# Assuming test_generator is already defined and configured\n",
    "\n",
    "# Extract class labels directly from the test generator\n",
    "# This assumes that the classes attribute is accessible and correctly ordered\n",
    "class_labels = list(test_generator.class_indices.keys())\n",
    "\n",
    "# Predict class probabilities using the test generator\n",
    "test_generator.reset()\n",
    "pred = model.predict(test_generator, steps=len(test_generator), verbose=1)\n",
    "\n",
    "# Convert probabilities to predicted class indices\n",
    "y_pred = np.argmax(pred, axis=1)\n",
    "\n",
    "# Actual class labels from the test generator\n",
    "y_true = test_generator.classes\n",
    "\n",
    "# Calculate overall accuracy\n",
    "accuracy = accuracy_score(y_true, y_pred)\n",
    "print('Overall Accuracy:', accuracy)\n",
    "\n",
    "# Generate confusion matrix\n",
    "cm = confusion_matrix(y_true, y_pred)\n",
    "\n",
    "# Plot confusion matrix with class labels\n",
    "plt.figure(figsize=(8, 6))\n",
    "sns.heatmap(cm, annot=True, cmap='Blues', fmt='g', xticklabels=class_labels, yticklabels=class_labels)\n",
    "plt.xlabel('Predicted Label')\n",
    "plt.ylabel('True Label')\n",
    "plt.title('Confusion Matrix with Class Labels')\n",
    "plt.show()\n",
    "\n",
    "# Generate and print classification report\n",
    "report = classification_report(y_true, y_pred, target_names=class_labels)\n",
    "print(report)\n"
   ]
  },
  {
   "cell_type": "code",
   "execution_count": null,
   "metadata": {
    "colab": {
     "base_uri": "https://localhost:8080/"
    },
    "executionInfo": {
     "elapsed": 1027,
     "status": "ok",
     "timestamp": 1717931394547,
     "user": {
      "displayName": "Atika Marlinda",
      "userId": "12465782107960858004"
     },
     "user_tz": -420
    },
    "id": "3Tlpe_z-OtR2",
    "outputId": "c72c8f3c-9664-44db-9eeb-ce70006d9f81"
   },
   "outputs": [],
   "source": [
    "from sklearn.metrics import precision_score\n",
    "from sklearn.metrics import recall_score\n",
    "from sklearn.metrics import f1_score\n",
    "from sklearn.metrics import confusion_matrix\n",
    "\n",
    "# Using the model to make predictions on test data\n",
    "test_generator.reset()\n",
    "pred = model.predict(test_generator, steps=len(test_generator), verbose=1)\n",
    "# Take the class with the highest probability value as the prediction\n",
    "y_pred = np.argmax(pred, axis=1)\n",
    "y_true = test_generator.classes\n",
    "\n",
    "# Calcukate overall accuracy\n",
    "accuracy = accuracy_score(y_true, y_pred)\n",
    "print('Overall Accuracy:', accuracy)\n",
    "\n",
    "# Using the model to make predictions on test data\n",
    "test_generator.reset()\n",
    "pred = model.predict(test_generator, steps=len(test_generator), verbose=1)\n",
    "\n",
    "# Take the class with the highest probability value as the prediction\n",
    "y_pred_classes = np.argmax(pred, axis=1)\n",
    "y_true = test_generator.classes\n",
    "\n",
    "# Measure akurasi\n",
    "accuracy = accuracy_score(y_true, y_pred)\n",
    "print('Accuracy:', accuracy)\n",
    "\n",
    "# Measure presisi\n",
    "precision = precision_score(y_true, y_pred, average='macro')\n",
    "print('Precision:', precision)\n",
    "\n",
    "# Measure recall\n",
    "recall = recall_score(y_true, y_pred, average='macro')\n",
    "print('Recall:', recall)\n",
    "\n",
    "# Measure F1-score\n",
    "f1 = f1_score(y_true, y_pred, average='macro')\n",
    "print('F1-score:', f1)\n",
    "\n",
    "# Measure confusion matrix\n",
    "cm = confusion_matrix(y_true, y_pred)\n",
    "print('Confusion Matrix:')\n",
    "print(cm)"
   ]
  },
  {
   "cell_type": "code",
   "execution_count": null,
   "metadata": {
    "colab": {
     "base_uri": "https://localhost:8080/",
     "height": 387
    },
    "executionInfo": {
     "elapsed": 537,
     "status": "ok",
     "timestamp": 1717931395786,
     "user": {
      "displayName": "Atika Marlinda",
      "userId": "12465782107960858004"
     },
     "user_tz": -420
    },
    "id": "2dSd-cLT2JY6",
    "outputId": "a7e3870c-c0f8-4425-c921-caf735cd2fb3"
   },
   "outputs": [],
   "source": [
    "# Create plot learning curve\n",
    "plt.figure(figsize=(12, 4))\n",
    "\n",
    "plt.subplot(1, 2, 1)\n",
    "plt.plot(train_acc, label='Training Accuracy')\n",
    "plt.plot(val_acc, label='Validation Accuracy')\n",
    "plt.legend()\n",
    "plt.xlabel('Epoch')\n",
    "plt.ylabel('Accuracy')\n",
    "\n",
    "plt.subplot(1, 2, 2)\n",
    "plt.plot(train_loss, label='Training Loss')\n",
    "plt.plot(val_loss, label='Validation Loss')\n",
    "plt.legend()\n",
    "plt.xlabel('Epoch')\n",
    "plt.ylabel('Loss')\n",
    "\n",
    "plt.show()"
   ]
  }
 ],
 "metadata": {
  "accelerator": "GPU",
  "colab": {
   "gpuType": "T4",
   "provenance": []
  },
  "kernelspec": {
   "display_name": "Python 3",
   "name": "python3"
  },
  "language_info": {
   "codemirror_mode": {
    "name": "ipython",
    "version": 3
   },
   "file_extension": ".py",
   "mimetype": "text/x-python",
   "name": "python",
   "nbconvert_exporter": "python",
   "pygments_lexer": "ipython3",
   "version": "3.11.3"
  },
  "vscode": {
   "interpreter": {
    "hash": "2035e3cb90c3b50a2cf439124efcd571e4c3a78c6ed1c58d86568ea79e9578e8"
   }
  }
 },
 "nbformat": 4,
 "nbformat_minor": 0
}
